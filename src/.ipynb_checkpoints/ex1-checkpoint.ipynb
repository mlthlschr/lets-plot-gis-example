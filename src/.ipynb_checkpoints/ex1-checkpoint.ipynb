{
 "cells": [
  {
   "cell_type": "markdown",
   "metadata": {},
   "source": [
    "NB: there is a problem importing geotools, as the dependecy `javax.media:jai_core` can not be resolved, even though the `osgeo`-repository is given. See [issue 107](https://github.com/Kotlin/kotlin-jupyter/issues/107) in the `kotlin-jupyter` repo. Currently, a manual workaround has to be done, as described in the above mentioned issue."
   ]
  },
  {
   "cell_type": "code",
   "execution_count": 28,
   "metadata": {},
   "outputs": [],
   "source": [
    "@file:Repository(\"https://repo.osgeo.org/repository/release/\")\n",
    "@file:DependsOn(\"org.geotools:gt-shapefile:23.2\")\n",
    "@file:DependsOn(\"org.geotools:gt-main:23.2\")\n",
    "\n",
    "import org.geotools.data.shapefile.ShapefileDataStoreFactory\n",
    "import org.opengis.feature.simple.SimpleFeature\n",
    "import java.net.URI\n",
    "import java.nio.file.Paths"
   ]
  },
  {
   "cell_type": "code",
   "execution_count": 12,
   "metadata": {},
   "outputs": [
    {
     "name": "stdout",
     "output_type": "stream",
     "text": [
      "file:/home/malte/code/git/lets-plot-gis-example/resources/naturalearth_lowres.shp\n"
     ]
    }
   ],
   "source": [
    "val factory = ShapefileDataStoreFactory()\n",
    "val shapefileUrl = Paths.get(\"../resources/naturalearth_lowres.shp\").toAbsolutePath().normalize().toUri().toURL()\n",
    "val datastore = factory.createDataStore(shapefileUrl)"
   ]
  },
  {
   "cell_type": "code",
   "execution_count": 51,
   "metadata": {},
   "outputs": [],
   "source": [
    "val keys = datastore.schema.attributeDescriptors"
   ]
  },
  {
   "cell_type": "code",
   "execution_count": 52,
   "metadata": {},
   "outputs": [
    {
     "name": "stderr",
     "output_type": "stream",
     "text": [
      "java.lang.Error: Maximum lock count exceeded\n",
      "java.base/java.util.concurrent.locks.ReentrantReadWriteLock$Sync.fullTryAcquireShared(ReentrantReadWriteLock.java:535)\n",
      "java.base/java.util.concurrent.locks.ReentrantReadWriteLock$Sync.tryAcquireShared(ReentrantReadWriteLock.java:494)\n",
      "java.base/java.util.concurrent.locks.AbstractQueuedSynchronizer.acquireShared(AbstractQueuedSynchronizer.java:1025)\n",
      "java.base/java.util.concurrent.locks.ReentrantReadWriteLock$ReadLock.lock(ReentrantReadWriteLock.java:738)\n",
      "org.geotools.data.shapefile.files.ShpFiles.acquireRead(ShpFiles.java:333)\n",
      "org.geotools.data.shapefile.IndexManager.isIndexStale(IndexManager.java:192)\n",
      "org.geotools.data.shapefile.IndexManager.isIndexUseable(IndexManager.java:153)\n",
      "org.geotools.data.shapefile.IndexManager.hasFidIndex(IndexManager.java:129)\n",
      "org.geotools.data.shapefile.ShapefileFeatureSource.getReaderInternal(ShapefileFeatureSource.java:369)\n",
      "org.geotools.data.shapefile.ShapefileFeatureStore.getReaderInternal(ShapefileFeatureStore.java:133)\n",
      "org.geotools.data.store.ContentFeatureSource.getReader(ContentFeatureSource.java:619)\n",
      "org.geotools.data.store.ContentDataStore.getFeatureReader(ContentDataStore.java:361)\n",
      "org.geotools.data.shapefile.ShapefileDataStore.getFeatureReader(ShapefileDataStore.java:226)\n",
      "Line_1705_jupyter$features$1.invoke(Line_1705.jupyter.kts:1)\n",
      "Line_1705_jupyter$features$1.invoke(Line_1705.jupyter.kts:1)\n",
      "kotlin.sequences.SequencesKt__SequencesKt$generateSequence$1.invoke(Sequences.kt:635)\n",
      "kotlin.sequences.GeneratorSequence$iterator$1.calcNext(Sequences.kt:585)\n",
      "kotlin.sequences.GeneratorSequence$iterator$1.hasNext(Sequences.kt:603)\n",
      "kotlin.sequences.SequencesKt___SequencesKt.toCollection(_Sequences.kt:724)\n",
      "kotlin.sequences.SequencesKt___SequencesKt.toMutableList(_Sequences.kt:754)\n",
      "kotlin.sequences.SequencesKt___SequencesKt.toList(_Sequences.kt:745)\n",
      "Line_1705_jupyter.<init>(Line_1705.jupyter.kts:2)\n",
      "java.base/jdk.internal.reflect.NativeConstructorAccessorImpl.newInstance0(Native Method)\n",
      "java.base/jdk.internal.reflect.NativeConstructorAccessorImpl.newInstance(NativeConstructorAccessorImpl.java:62)\n",
      "java.base/jdk.internal.reflect.DelegatingConstructorAccessorImpl.newInstance(DelegatingConstructorAccessorImpl.java:45)\n",
      "java.base/java.lang.reflect.Constructor.newInstanceWithCaller(Constructor.java:500)\n",
      "java.base/java.lang.reflect.Constructor.newInstance(Constructor.java:481)\n",
      "kotlin.script.experimental.jvm.BasicJvmScriptEvaluator.evalWithConfigAndOtherScriptsResults(BasicJvmScriptEvaluator.kt:96)\n",
      "kotlin.script.experimental.jvm.BasicJvmScriptEvaluator.invoke$suspendImpl(BasicJvmScriptEvaluator.kt:41)\n",
      "kotlin.script.experimental.jvm.BasicJvmScriptEvaluator.invoke(BasicJvmScriptEvaluator.kt)\n",
      "kotlin.script.experimental.jvm.BasicJvmReplEvaluator.eval(BasicJvmReplEvaluator.kt:51)\n",
      "org.jetbrains.kotlin.jupyter.ReplForJupyterImpl$doEval$resultWithDiagnostics$1.invokeSuspend(repl.kt:535)\n",
      "kotlin.coroutines.jvm.internal.BaseContinuationImpl.resumeWith(ContinuationImpl.kt:33)\n",
      "kotlinx.coroutines.DispatchedTask.run(DispatchedTask.kt:56)\n",
      "kotlinx.coroutines.EventLoopImplBase.processNextEvent(EventLoop.common.kt:274)\n",
      "kotlinx.coroutines.BlockingCoroutine.joinBlocking(Builders.kt:84)\n",
      "kotlinx.coroutines.BuildersKt__BuildersKt.runBlocking(Builders.kt:59)\n",
      "kotlinx.coroutines.BuildersKt.runBlocking(Unknown Source)\n",
      "kotlinx.coroutines.BuildersKt__BuildersKt.runBlocking$default(Builders.kt:38)\n",
      "kotlinx.coroutines.BuildersKt.runBlocking$default(Unknown Source)\n",
      "org.jetbrains.kotlin.jupyter.ReplForJupyterImpl.doEval(repl.kt:535)\n",
      "org.jetbrains.kotlin.jupyter.ReplForJupyterImpl.eval(repl.kt:366)\n",
      "org.jetbrains.kotlin.jupyter.ProtocolKt$shellMessagesHandler$res$1.invoke(protocol.kt:138)\n",
      "org.jetbrains.kotlin.jupyter.ProtocolKt$shellMessagesHandler$res$1.invoke(protocol.kt)\n",
      "org.jetbrains.kotlin.jupyter.ProtocolKt.evalWithIO(protocol.kt:351)\n",
      "org.jetbrains.kotlin.jupyter.ProtocolKt.shellMessagesHandler(protocol.kt:137)\n",
      "org.jetbrains.kotlin.jupyter.IkotlinKt.kernelServer(ikotlin.kt:107)\n",
      "org.jetbrains.kotlin.jupyter.IkotlinKt.main(ikotlin.kt:69)\n"
     ]
    }
   ],
   "source": [
    "val features = generateSequence { if (datastore.featureReader.hasNext()) datastore.featureReader.next() else null }\n",
    "val featList = features.toList()"
   ]
  },
  {
   "cell_type": "code",
   "execution_count": null,
   "metadata": {},
   "outputs": [],
   "source": []
  }
 ],
 "metadata": {
  "kernelspec": {
   "display_name": "Kotlin",
   "language": "kotlin",
   "name": "kotlin"
  },
  "language_info": {
   "codemirror_mode": "text/x-kotlin",
   "file_extension": ".kt",
   "mimetype": "text/x-kotlin",
   "name": "kotlin",
   "pygments_lexer": "kotlin",
   "version": "1.4.20-dev-2342"
  }
 },
 "nbformat": 4,
 "nbformat_minor": 1
}
